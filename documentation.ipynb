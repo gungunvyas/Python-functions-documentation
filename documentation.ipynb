{
  "cells": [
    {
      "cell_type": "markdown",
      "metadata": {
        "id": "view-in-github",
        "colab_type": "text"
      },
      "source": [
        "<a href=\"https://colab.research.google.com/github/wearevenomhehe/code-documentation/blob/main/documentation.ipynb\" target=\"_parent\"><img src=\"https://colab.research.google.com/assets/colab-badge.svg\" alt=\"Open In Colab\"/></a>"
      ]
    },
    {
      "cell_type": "markdown",
      "source": [
        "#plot a graph between relative frequency and random numbers"
      ],
      "metadata": {
        "id": "IYz6YAzaPMS5"
      }
    },
    {
      "cell_type": "markdown",
      "source": [
        "# **Theory**\n",
        "\n",
        "---\n",
        "\n"
      ],
      "metadata": {
        "id": "TxHAqpckPwQO"
      }
    },
    {
      "cell_type": "markdown",
      "source": [
        "THIS PROGRAM MAKES USE OF TWO IMPORTANT DATA STRUCTURES USED IN PYTHON NAMELY:-\n",
        "\n",
        "1. **LIST** - Lists are used to store multiple items in a single variable.\n",
        "The items of a list are ordered, changeable, and allows duplicate values.\n",
        "\n",
        "These are created by [ ] brackets.\n",
        "\n",
        "2. **DICTIONARY** -Dictionaries are used to store data values in key:value pairs. A dictionary is a collection which is unordered, changeable and do not allow duplicates.\n",
        "\n",
        "these are usually created by { }  brackets.\n",
        "\n",
        " The following functions used in python programming specific to list are as\n",
        "follows :-\n",
        "\n",
        "1. append\n",
        "2. copy\n",
        "3. clear\n",
        "4. count\n",
        "5. extend\n",
        "6. pop\n",
        "7. remove\n",
        "8. reverse\n",
        "9. sort\n",
        "10. index\n",
        "11. insert\n"
      ],
      "metadata": {
        "id": "h1hDEzEjSkSW"
      }
    },
    {
      "cell_type": "markdown",
      "source": [
        "# 1. APPEND - Adds the specified element at the end of the list."
      ],
      "metadata": {
        "id": "c01hSDCoa3wk"
      }
    },
    {
      "cell_type": "code",
      "source": [
        "l1=[0,2,3,\"GG\"] #list l1 initialized with elements\n",
        "l1.append(4)  #l1.append() appends the specified list with the given element, in this case 4.\n",
        "l1 #prints l1"
      ],
      "metadata": {
        "colab": {
          "base_uri": "https://localhost:8080/"
        },
        "id": "xIso7GktScF0",
        "outputId": "3351f115-a8e0-4936-9454-7702ac5c6f5f"
      },
      "execution_count": null,
      "outputs": [
        {
          "output_type": "execute_result",
          "data": {
            "text/plain": [
              "[0, 2, 3, 'GG', 4]"
            ]
          },
          "metadata": {},
          "execution_count": 29
        }
      ]
    },
    {
      "cell_type": "markdown",
      "source": [
        "# 2. COPY- Makes a copy of the specified list which can be stored in another variable.\n",
        "\n",
        "#--> Copy does not use any temp variable to store, hence it is INPLACE.\n",
        "\n",
        "#Is of two types:- i) Shallow Copy  ii) Deep Copy\n",
        "\n",
        "i) **Shallow Copy** - When we use the **.copy** function on a list and store it in another list, it creates a new list but the elements inside the new list still reference the same objects as the elements in original list.\n",
        "\n",
        "*    This function is helpful as when, changes are made to a copied list they do not reflect inside the original list.\n",
        "\n",
        "*   **But**, only a shallow copy of the outer elements of the list is made. If\n",
        "changes are made to a nested list inside a copied list, it will reflect changes in both the original and copied lists.\n",
        "\n",
        "ii) **Deep Copy**- Deep copy on the contrary, also makes a copy of the nested list inside a copied list"
      ],
      "metadata": {
        "id": "d36iPoW5bjMH"
      }
    },
    {
      "cell_type": "code",
      "source": [
        "#example of shallow copy\n",
        "original_list = [1, 2, [3, 4]] #a list with a nested list element is made\n",
        "shallow_copy_list = original_list.copy() # .copy function is used to copy elements of original_list in shallow_copy_list\n",
        "print(shallow_copy_list) # Output: [1, 2, [3, 4]]\n",
        "print(original_list) # Output: [1, 2, [3, 4]]\n",
        "\n",
        "shallow_copy_list.append(5) # appending the new list with 5\n",
        "print(original_list) # Output: [1, 2, [3, 4]]. No changes are reflected in the original list\n",
        "print(shallow_copy_list) # Output: [1, 2, [3, 4],5]"
      ],
      "metadata": {
        "colab": {
          "base_uri": "https://localhost:8080/"
        },
        "id": "wcnawVahcxEx",
        "outputId": "c5f64a19-6550-4562-9274-eb82219967d7"
      },
      "execution_count": 3,
      "outputs": [
        {
          "output_type": "stream",
          "name": "stdout",
          "text": [
            "[1, 2, [3, 4]]\n",
            "[1, 2, [3, 4]]\n",
            "[1, 2, [3, 4]]\n",
            "[1, 2, [3, 4], 5]\n"
          ]
        }
      ]
    },
    {
      "cell_type": "code",
      "source": [
        "#another example of shallow copy\n",
        "original_list = [1, 2, [3, 4]]\n",
        "shallow_copy_list = original_list.copy()\n",
        "\n",
        "# Modifying the nested list in the shallow copy\n",
        "shallow_copy_list[2][0] = 8\n",
        "\n",
        "print(original_list)  # Output: [1, 2, [8, 4]]. As a shallow copy was created, changes inside the nested list of the copied list is also reflected in the original list\n",
        "print(shallow_copy_list)  # Output: [1, 2, [8, 4]]\n",
        "\n"
      ],
      "metadata": {
        "colab": {
          "base_uri": "https://localhost:8080/"
        },
        "id": "xUjsuaJxHd3x",
        "outputId": "e557e0a8-951a-4d49-fe00-6c955b956cab"
      },
      "execution_count": 4,
      "outputs": [
        {
          "output_type": "stream",
          "name": "stdout",
          "text": [
            "[1, 2, [8, 4]]\n",
            "[1, 2, [8, 4]]\n"
          ]
        }
      ]
    },
    {
      "cell_type": "code",
      "source": [
        "#example of deep copy\n",
        "import copy\n",
        "\n",
        "# Original list with nested lists\n",
        "original_list = [1, 2, [3, 4]]\n",
        "\n",
        "# Creating a deep copy using deepcopy()\n",
        "deep_copy_list = copy.deepcopy(original_list)\n",
        "\n",
        "# Modifying the nested list in the deep copy\n",
        "deep_copy_list[2][0] = 8\n",
        "\n",
        "# Printing both lists to show that the modification in the deep copy doesn't affect the original\n",
        "print(original_list)  # Output: [1, 2, [3, 4]]\n",
        "print(deep_copy_list)  # Output: [1, 2, [8, 4]]\n"
      ],
      "metadata": {
        "colab": {
          "base_uri": "https://localhost:8080/"
        },
        "id": "rVieJMXqJiLY",
        "outputId": "e87eafdb-c92d-4acb-9864-b3f500753df8"
      },
      "execution_count": 6,
      "outputs": [
        {
          "output_type": "stream",
          "name": "stdout",
          "text": [
            "[1, 2, [3, 4]]\n",
            "[1, 2, [8, 4]]\n"
          ]
        }
      ]
    },
    {
      "cell_type": "markdown",
      "source": [
        "# 3. CLEAR - Removes all elements from a list"
      ],
      "metadata": {
        "id": "nXEu61SycRpT"
      }
    },
    {
      "cell_type": "code",
      "source": [
        "l1=[0,2,3,\"GG\"]\n",
        "l1.clear()# clears all the elements in the list l1\n",
        "print(l1)\n"
      ],
      "metadata": {
        "colab": {
          "base_uri": "https://localhost:8080/"
        },
        "id": "k5wAs_IzcD1R",
        "outputId": "4aa5e758-759c-4b88-b298-7a23afb06da4"
      },
      "execution_count": 8,
      "outputs": [
        {
          "output_type": "stream",
          "name": "stdout",
          "text": [
            "[]\n"
          ]
        }
      ]
    },
    {
      "cell_type": "markdown",
      "source": [
        "# 4. COUNT - Returns the no. of occurence of the specified element in a list\n"
      ],
      "metadata": {
        "id": "ZYZDivatgnta"
      }
    },
    {
      "cell_type": "code",
      "source": [
        "l2=[1,3,3,4,\"gungun\"]\n",
        "l2.count(3)# returns the no. of occurence of the element '3' in l2\n",
        "\n"
      ],
      "metadata": {
        "colab": {
          "base_uri": "https://localhost:8080/"
        },
        "id": "lY-xoVEOhhgn",
        "outputId": "ae7af28a-d836-431c-e056-2becc4d6928a"
      },
      "execution_count": 11,
      "outputs": [
        {
          "output_type": "execute_result",
          "data": {
            "text/plain": [
              "2"
            ]
          },
          "metadata": {},
          "execution_count": 11
        }
      ]
    },
    {
      "cell_type": "markdown",
      "source": [
        "# 5. EXTEND - It is similar to append but only appends elements from an iterable (such as another list, tuple, set, string or any other iterable) to the end of the original list.\n",
        "\n",
        "*   It's important to note that extend() modifies the original list in place and doesn't return a new list. Therefore, it directly affects the list on which it's called.\n",
        "\n"
      ],
      "metadata": {
        "id": "VGpGa7geka-q"
      }
    },
    {
      "cell_type": "code",
      "source": [
        "#example to extend a list\n",
        "\n",
        "# Original list\n",
        "my_list = [1, 2, 3]\n",
        "\n",
        "# Another list to extend from\n",
        "another_list = [4, 5, 6]\n",
        "\n",
        "# Using extend() to add elements from 'another_list' to 'my_list'\n",
        "my_list.extend(another_list)\n",
        "\n",
        "# Printing the modified list (my_list)\n",
        "print(my_list)  # Output: [1, 2, 3, 4, 5, 6]\n",
        "\n",
        "\n"
      ],
      "metadata": {
        "colab": {
          "base_uri": "https://localhost:8080/"
        },
        "id": "Tgpuj6Vymn7L",
        "outputId": "1dfa267b-e298-4d5e-c4ec-1bcc461f04f3"
      },
      "execution_count": 12,
      "outputs": [
        {
          "output_type": "stream",
          "name": "stdout",
          "text": [
            "[1, 2, 3, 4, 5, 6]\n"
          ]
        }
      ]
    },
    {
      "cell_type": "code",
      "source": [
        "#example to extend a string\n",
        "\n",
        "l2= [\"gungun\"]\n",
        "l2.extend(\"manan\") # extends the word \"manan\" character by character in l2\n",
        "l2"
      ],
      "metadata": {
        "colab": {
          "base_uri": "https://localhost:8080/"
        },
        "id": "X8jCyr1SLuzx",
        "outputId": "f1e81033-1a79-4f5e-80e2-c8713d584d3a"
      },
      "execution_count": 15,
      "outputs": [
        {
          "output_type": "execute_result",
          "data": {
            "text/plain": [
              "['gungun', 'm', 'a', 'n', 'a', 'n']"
            ]
          },
          "metadata": {},
          "execution_count": 15
        }
      ]
    },
    {
      "cell_type": "markdown",
      "source": [
        "#6. POP - Pops the item at a specified index from a list.\n",
        "# --> Also returns the value to be popped.\n"
      ],
      "metadata": {
        "id": "NIQAnxNuTeur"
      }
    },
    {
      "cell_type": "code",
      "source": [
        "l2= ['gungun', 'm', 'a', 'n', 'a', 'n']\n",
        "l2.pop(1)# pops and returns the value at index 1\n",
        "l2.pop()# if index is not specified it by default removes/pops the element at the last index\n",
        "l2"
      ],
      "metadata": {
        "colab": {
          "base_uri": "https://localhost:8080/"
        },
        "id": "xfdnKlM5Ugrw",
        "outputId": "662049b6-0518-4309-f803-80d24803f87a"
      },
      "execution_count": 19,
      "outputs": [
        {
          "output_type": "execute_result",
          "data": {
            "text/plain": [
              "['gungun', 'a', 'n', 'a']"
            ]
          },
          "metadata": {},
          "execution_count": 19
        }
      ]
    },
    {
      "cell_type": "markdown",
      "source": [
        "#7. REMOVE - Remove() method is used to remove a specified value from a list.\n",
        "\n",
        "#--> Takes the value to be removed as an argument, not its index\n",
        "\n",
        "#--> If the specified value occurs multiple times in the list, remove() removes only the first occurrence found, not all occurrences."
      ],
      "metadata": {
        "id": "9_oJdcMrWgRg"
      }
    },
    {
      "cell_type": "code",
      "source": [
        "l2= ['gungun', 'm', 'a', 'n','m', 'a', 'n']\n",
        "l2.remove(\"m\")# \"m\" character at index 1 gets removed.\n",
        "l2"
      ],
      "metadata": {
        "colab": {
          "base_uri": "https://localhost:8080/"
        },
        "id": "SOcXx02JXtm9",
        "outputId": "7d637695-fe98-4310-d002-46e007c082a6"
      },
      "execution_count": 25,
      "outputs": [
        {
          "output_type": "execute_result",
          "data": {
            "text/plain": [
              "['gungun', 'a', 'n', 'm', 'a', 'n']"
            ]
          },
          "metadata": {},
          "execution_count": 25
        }
      ]
    },
    {
      "cell_type": "markdown",
      "source": [
        "# 8. REVERSE - the reverse() method is used to reverse the order of elements in the original list\n",
        "\n",
        "--> If we want to reverse the list without changing the original list, we make use of slicing."
      ],
      "metadata": {
        "id": "on_GPSwqYnZY"
      }
    },
    {
      "cell_type": "code",
      "source": [
        "\n",
        "l2= ['gungun', 'm', 'a', 'n','m', 'a', 'n']\n",
        "l2.reverse()# reverses the elements of  list l2\n",
        "print(l2)# prints a reversed list using reverse() function\n",
        "\n",
        "#slicing method\n",
        "l2= ['gungun', 'm', 'a', 'n','m', 'a', 'n']\n",
        "l3= l2[::-1]#slicing\n",
        "print(l3)# prints a reverse list using slicing\n",
        "print(l2)#prints original list\n",
        "\n"
      ],
      "metadata": {
        "colab": {
          "base_uri": "https://localhost:8080/"
        },
        "id": "4lEBTI0EZpVk",
        "outputId": "b15234bc-33d7-4114-f343-01e24ff4899e"
      },
      "execution_count": 37,
      "outputs": [
        {
          "output_type": "stream",
          "name": "stdout",
          "text": [
            "['n', 'a', 'm', 'n', 'a', 'm', 'gungun']\n",
            "['n', 'a', 'm', 'n', 'a', 'm', 'gungun']\n",
            "['gungun', 'm', 'a', 'n', 'm', 'a', 'n']\n"
          ]
        }
      ]
    },
    {
      "cell_type": "markdown",
      "source": [
        "# 9. SORT - the sort() method is used to sort elements in a list in ascending order by default.\n",
        "\n",
        "-->The sort() method arranges the elements of the list in ascending order, **assuming all elements are of the same data type and can be compared**.\n",
        "\n",
        "--> The algorithm used for sorting behind this function is **quick sort** algorithm"
      ],
      "metadata": {
        "id": "4hjOc5zGbHDc"
      }
    },
    {
      "cell_type": "code",
      "source": [
        "# Original list of numbers\n",
        "numbers = [7, 2, 5, 1, 9]\n",
        "\n",
        "# Sorting the list in ascending order\n",
        "numbers.sort()\n",
        "\n",
        "print(numbers)  # prints a ascending order output\n",
        "\n",
        "#To print the list in descending order:-\n",
        "\n",
        "numbers.sort(reverse=True)# to print numbers in descending order\n",
        "print(numbers)# prints a descending order output"
      ],
      "metadata": {
        "colab": {
          "base_uri": "https://localhost:8080/"
        },
        "id": "iy_3DtpUcFoo",
        "outputId": "7795fdcf-cc6f-42eb-d6d6-f0d4c75fe39e"
      },
      "execution_count": 39,
      "outputs": [
        {
          "output_type": "stream",
          "name": "stdout",
          "text": [
            "[1, 2, 5, 7, 9]\n",
            "[9, 7, 5, 2, 1]\n"
          ]
        }
      ]
    },
    {
      "cell_type": "markdown",
      "source": [],
      "metadata": {
        "id": "GNb2F9aOlJ85"
      }
    },
    {
      "cell_type": "markdown",
      "source": [
        "# 10. INDEX - the index() method is used to find the index of the **first occurrence** of a specified element in a list.\n",
        "\n",
        "--> It returns the index of the element if it's found in the list, and if the element is not found, it raises a **ValueError**"
      ],
      "metadata": {
        "id": "L1cCT6-1lOwX"
      }
    },
    {
      "cell_type": "code",
      "source": [
        "# Original list\n",
        "my_list = ['apple', 'banana', 'cherry', 'apple', 'date']\n",
        "\n",
        "# Find the index of the first occurrence of 'apple'\n",
        "index = my_list.index('apple')\n",
        "\n",
        "print(index)  # Output: 0 (index of the first occurrence of 'apple')\n"
      ],
      "metadata": {
        "colab": {
          "base_uri": "https://localhost:8080/"
        },
        "id": "YZxTdBORm4c9",
        "outputId": "e1efef6f-ec1b-4d20-a78f-930951e2ac66"
      },
      "execution_count": 40,
      "outputs": [
        {
          "output_type": "stream",
          "name": "stdout",
          "text": [
            "0\n"
          ]
        }
      ]
    },
    {
      "cell_type": "markdown",
      "source": [
        "# 11. INSERT - the insert() method is used to insert an element into a list at a specified index.\n",
        "\n",
        "#The insert() method takes two arguments:\n",
        "\n",
        "\n",
        "#*   The index where the element needs to be inserted.\n",
        "#*   The value of the element to be inserted.\n",
        "\n",
        "\n",
        "\n",
        "\n"
      ],
      "metadata": {
        "id": "YA13wsVQnAdj"
      }
    },
    {
      "cell_type": "code",
      "source": [
        "# Original list\n",
        "my_list = ['apple', 'banana', 'cherry']\n",
        "\n",
        "# Inserting 'date' at index 2\n",
        "my_list.insert(2, 'date')\n",
        "\n",
        "print(my_list)\n"
      ],
      "metadata": {
        "colab": {
          "base_uri": "https://localhost:8080/"
        },
        "id": "zQOtf9qKn3Nr",
        "outputId": "f4bb77b8-23bc-4c6a-a50c-98baffd1a591"
      },
      "execution_count": 42,
      "outputs": [
        {
          "output_type": "stream",
          "name": "stdout",
          "text": [
            "['apple', 'banana', 'date', 'cherry']\n"
          ]
        }
      ]
    },
    {
      "cell_type": "markdown",
      "source": [
        "# ZIP FUNCTION - the zip() function is used to combine multiple iterables (such as lists, tuples, etc.) element-wise into Tuples.\n",
        "\n",
        "\n",
        "\n",
        "\n",
        "\n"
      ],
      "metadata": {
        "id": "vxlSt6VWpqEz"
      }
    },
    {
      "cell_type": "code",
      "source": [
        "#example\n",
        "list1 = ['a', 'b', 'c']\n",
        "list2 = [1, 2, 3]\n",
        "\n",
        "# Using zip() to combine lists into tuples\n",
        "result = zip(list1, list2)\n",
        "\n",
        "print(result)\n",
        "\n"
      ],
      "metadata": {
        "colab": {
          "base_uri": "https://localhost:8080/"
        },
        "id": "Rp07ly3kyA4N",
        "outputId": "cc500950-af08-4fee-da45-d062f17ddb23"
      },
      "execution_count": 43,
      "outputs": [
        {
          "output_type": "stream",
          "name": "stdout",
          "text": [
            "<zip object at 0x7ee050fe6e80>\n"
          ]
        }
      ]
    },
    {
      "cell_type": "markdown",
      "source": [
        "The above example does not execute because of one characterstic of zip . That is, zip is a lazy function.\n",
        "\n",
        "**LAZY FUNCTION** - Such functions uses \"lazy evaluation\" which refers to a technique where an expression or computation is deferred until its result is explicitly needed.\n",
        "\n",
        "--> Lazy evaluation can help optimize memory usage and execution time by delaying computations until they're actually required.\n",
        "\n",
        " **In order to execute a lazy function such as zip we need to either store it in a data structure or run a loop over it**"
      ],
      "metadata": {
        "id": "OW6QJVZgyUw8"
      }
    },
    {
      "cell_type": "markdown",
      "source": [
        "# MAIN PROGRAM - TO PLOT A GRAPH BETWEEN RELATIVE FREQUENCY AND RANDOMLY GENERATED NUMBERS.\n",
        "\n",
        "**AIM OF THE PROGRAM - If a coin is tossed and comes true, generate a random string containing numbers till index = 10 and from the 11th index it should contain alphabets.Then generate a total of 1000 random strings and plot a graph.**"
      ],
      "metadata": {
        "id": "6jUgFNha1FQI"
      }
    },
    {
      "cell_type": "markdown",
      "source": [
        "# PROBABILITY - probability of occurence of any event x is the limiting case of relative frequency as the sample size approaches infinity\n",
        "\n",
        "PROBABILITY =\n",
        "\n",
        "$$ \\lim_{{n \\to \\infty}} \\frac{{\\text{frequency}(x)}}{{\\text{sample size}}} $$\n"
      ],
      "metadata": {
        "id": "6WM9SH6LNheQ"
      }
    },
    {
      "cell_type": "markdown",
      "source": [
        "\n",
        "\n",
        "*   **STEP** **1** - IMPORT ALL THE NECESSARY MODULES\n",
        "\n"
      ],
      "metadata": {
        "id": "4kxZ1buV2x_v"
      }
    },
    {
      "cell_type": "code",
      "execution_count": 52,
      "metadata": {
        "id": "HXyQVjn5VCFT"
      },
      "outputs": [],
      "source": [
        "# Import the 'random' module for generating random numbers\n",
        "import random\n",
        "\n",
        "# Import the 'matplotlib.pyplot' module for creating plots\n",
        "import matplotlib.pyplot as plt\n",
        ""
      ]
    },
    {
      "cell_type": "markdown",
      "source": [
        "\n",
        "\n",
        "*   **STEP 2** - CREATE TWO LIST OF REQUIRED RANGE\n"
      ],
      "metadata": {
        "id": "P1bv6SaQ3fUt"
      }
    },
    {
      "cell_type": "code",
      "source": [
        "mapping_dict = dict(zip(range(0,10),range(0,10)))"
      ],
      "metadata": {
        "id": "Z6DbI9283r_0"
      },
      "execution_count": 46,
      "outputs": []
    },
    {
      "cell_type": "markdown",
      "source": [
        "Explaination - i) The lazy function zip is used to combine two ranges into tuples whose values are ranging from 0 to 9.(10 gets excluded).\n",
        "\n",
        "              ii) the dict constructor is called to execute the zip function and create a dictionary where keys range from (0 to 9) and values also range from (0 to 9)\n",
        "\n",
        "              iii)these values are stored in a a dictionary variable named mapping_dict\n"
      ],
      "metadata": {
        "id": "bXWm8IipCy6Q"
      }
    },
    {
      "cell_type": "markdown",
      "source": [
        "\n",
        "\n",
        "* **STEP 3** - ADD CHARACTERS(A-Z) FROM 10TH INDEX\n",
        "\n"
      ],
      "metadata": {
        "id": "lRVFpsKz_sTs"
      }
    },
    {
      "cell_type": "code",
      "source": [
        "# Adding characters A-Z (represented as integers 10-35) to mapping_dict\n",
        "for i in range(0, 26):\n",
        "    mapping_dict[10+i] = chr(65+i)"
      ],
      "metadata": {
        "id": "r093SF385--5"
      },
      "execution_count": 48,
      "outputs": []
    },
    {
      "cell_type": "markdown",
      "source": [
        "explaination - i)  The range(0,26) initiates a loop that iterates from i=0 up to i=25 (since range(0, 26) generates numbers from 0 to 25, inclusive).\n",
        "\n",
        "               ii) 10+i: This expression generates numbers from 10 to 35 (since i ranges from 0 to 25). These numbers will serve as keys in the mapping_dict dictionary.\n",
        "\n",
        "               iii) chr(65+i): The chr() function in Python takes an ASCII code and returns the corresponding character. Here, 65+i generates ASCII values from 65 to 90 ('A' to 'Z'), inclusive. These characters are used as the values corresponding to the keys in the mapping_dict\n",
        "\n",
        "               iv)This extends the dictionary mapping_dict by mapping integers from 10 to 35 to the uppercase letters from 'A' to 'Z'."
      ],
      "metadata": {
        "id": "BXNoeeyIIzeu"
      }
    },
    {
      "cell_type": "markdown",
      "source": [
        "\n",
        "\n",
        "* **STEP 4** - CONVERT THE INTEGER VALUES INTO STRINGS\n",
        "\n"
      ],
      "metadata": {
        "id": "bjsjqJPQACID"
      }
    },
    {
      "cell_type": "code",
      "source": [
        "# Converting integer values in mapping_dict to strings\n",
        "for k in mapping_dict.keys():\n",
        "    mapping_dict[k] = str(mapping_dict[k])\n",
        "print(mapping_dict)\n"
      ],
      "metadata": {
        "colab": {
          "base_uri": "https://localhost:8080/"
        },
        "id": "HLKMKamk6SP6",
        "outputId": "16ce301b-96a2-460b-f902-2ac56cf75005"
      },
      "execution_count": 50,
      "outputs": [
        {
          "output_type": "stream",
          "name": "stdout",
          "text": [
            "{0: '0', 1: '1', 2: '2', 3: '3', 4: '4', 5: '5', 6: '6', 7: '7', 8: '8', 9: '9', 10: 'A', 11: 'B', 12: 'C', 13: 'D', 14: 'E', 15: 'F', 16: 'G', 17: 'H', 18: 'I', 19: 'J', 20: 'K', 21: 'L', 22: 'M', 23: 'N', 24: 'O', 25: 'P', 26: 'Q', 27: 'R', 28: 'S', 29: 'T', 30: 'U', 31: 'V', 32: 'W', 33: 'X', 34: 'Y', 35: 'Z'}\n"
          ]
        }
      ]
    },
    {
      "cell_type": "markdown",
      "source": [
        "explaination - i) mapping_dict[k]: This accesses the value associated with the current key k in the dictionary mapping_dict.\n",
        "\n",
        "              ii) str(mapping_dict[k]): It converts the value (which is currently a character) into its string representation using the str() function."
      ],
      "metadata": {
        "id": "7QtSsB4UJlDs"
      }
    },
    {
      "cell_type": "markdown",
      "source": [
        "**SAMPLE** - A Sample is a **subset** or **smaller portion** of the population that is selected or taken from the larger population.\n",
        "\n",
        "**STEP 5** - CREATE A LIST OF RANDOMLY GENERATED NUMBERS"
      ],
      "metadata": {
        "id": "WEmcoN4NAQ-P"
      }
    },
    {
      "cell_type": "code",
      "source": [
        "# Set the size of the sample to 1,000,000\n",
        "sample_size= 1000000\n",
        "\n",
        "# Create an empty list to store generated random strings\n",
        "random_numbers = list()\n",
        "\n",
        "# Generate random strings based on specified rules\n",
        "for i in range(0,1000000):\n",
        "\n",
        "# Initialize an empty string to store the random characters\n",
        "  blank_str = str()\n",
        "\n",
        " # Generate two random digits and append their corresponding characters to the string\n",
        "  random_digit = random.randint(0,35)\n",
        "  blank_str = blank_str + mapping_dict[random_digit]\n",
        "\n",
        "  random_digit = random.randint(0,35)\n",
        "  blank_str = blank_str + mapping_dict[random_digit]\n",
        "\n",
        " # Generate additional characters based on a coin toss (8 characters at most)\n",
        "  for i in range(0,8):\n",
        "    coin_toss = random.randint(0,1)\n",
        "\n",
        "    if coin_toss == 1:\n",
        "\n",
        " # If the coin toss is 1, generate a random digit and append its character to the string\n",
        "      random_digit = random.randint(0,35)\n",
        "      blank_str = blank_str + mapping_dict[random_digit]\n",
        "\n",
        "    else:\n",
        "      break\n",
        "\n",
        "# Append the generated string to the list\n",
        "  random_numbers.append(blank_str)\n",
        "  print(random_numbers)"
      ],
      "metadata": {
        "id": "BWQfmIF77Lu7"
      },
      "execution_count": null,
      "outputs": []
    },
    {
      "cell_type": "markdown",
      "source": [
        "Explaination - i) A sample size  is set to generate the random strings\n",
        "                  based on the user input\n",
        "               ii)This loop (for i in range(0, 1000000):) runs 1,000,000 times to generate random strings based on specified rules.\n",
        "\n",
        "               iii) blank_str = str() initializes an empty string to store the random characters.\n",
        "\n",
        "               iv) Two random digits are generated (random_digit = random.randint(0, 35)) and their corresponding characters from the mapping_dict are added to blank_str.\n",
        "\n",
        "              v)Additional characters (up to 8) are generated based on coin tosses, appending their corresponding characters to blank_str.\n",
        "              \n",
        "              vi) The generated blank_str is appended to the random_numbers list."
      ],
      "metadata": {
        "id": "OyrywA-rKQhL"
      }
    },
    {
      "cell_type": "code",
      "source": [
        "# Create an empty dictionary to store the reverse mapping\n",
        "reverse_mapping_dict = dict()\n",
        "\n",
        "# Iterate through the keys of the 'mapping_dict' dictionary\n",
        "for k in mapping_dict.keys():\n",
        "  # Create a reverse mapping by swapping keys and values\n",
        "  reverse_mapping_dict[mapping_dict[k]] = k"
      ],
      "metadata": {
        "id": "qqhscNlW-Dgv"
      },
      "execution_count": 59,
      "outputs": []
    },
    {
      "cell_type": "markdown",
      "source": [
        "explaination - i) for k in mapping_dict.keys(): initiates a loop that iterates through all the keys in the mapping_dict dictionary.\n",
        "\n",
        "              ii)mapping_dict[k] retrieves the value associated with the current key k in the mapping_dict.\n",
        "              \n",
        "          iii)reverse_mapping_dict[mapping_dict[k]] = k creates a reverse mapping by assigning the key k as the value and the value\n",
        "          \n",
        "          iv)mapping_dict[k] as the key in the reverse_mapping_dict. This effectively swaps the keys and values from mapping_dict to create the reverse mapping."
      ],
      "metadata": {
        "id": "5WAjCEQ9L-4R"
      }
    },
    {
      "cell_type": "markdown",
      "source": [],
      "metadata": {
        "id": "kLsz4wJFYeDW"
      }
    },
    {
      "cell_type": "code",
      "execution_count": null,
      "metadata": {
        "id": "ba745hqvyubF"
      },
      "outputs": [],
      "source": [
        "# Create an empty dictionary to store the frequency of the highest base in each random string\n",
        "base_frequency = dict()\n",
        "\n",
        "# Iterate through each random string in the list 'random_numbers'\n",
        "for blank_str in random_numbers:\n",
        "    # Find the highest digit in the string\n",
        "    highest_digit = max(blank_str)\n",
        "\n",
        "    # Retrieve the corresponding numerical value from the reverse mapping\n",
        "    highest_base = reverse_mapping_dict[highest_digit] + 1\n",
        "\n",
        "    # Check if the highest base is already in the 'base_frequency' dictionary\n",
        "    if highest_base in base_frequency.keys():\n",
        "        # If yes, increment the frequency by the normalized value (1/sample_size)\n",
        "        base_frequency[highest_base] += (1 / sample_size)\n",
        "    else:\n",
        "        # If not, add a new entry with the highest base and set its frequency to the normalized value\n",
        "        base_frequency[highest_base] = (1 / sample_size)\n",
        "\n",
        "# Print the resulting 'base_frequency' dictionary\n",
        "print(base_frequency)\n",
        ""
      ]
    },
    {
      "cell_type": "markdown",
      "source": [
        "explaination- i) for blank_str in random_numbers: initiates a loop that iterates through each random string in the random_numbers list.\n",
        "\n",
        "ii) highest_digit = max(blank_str) finds the highest character (which represents the highest digit) in the current blank_str.\n",
        "\n",
        "iii) highest_base = reverse_mapping_dict[highest_digit] + 1 retrieves the corresponding numerical value from the reverse_mapping_dict for the highest digit found and increments it by 1 to get the highest base.\n",
        "\n",
        "iv)The loop checks if the highest_base is already in the base_frequency dictionary. If it is, it increments the frequency by the normalized value 1/sample_size. If not, it adds a new entry to the base_frequency dictionary with the highest_base as the key and sets its frequency to the normalized value 1/sample_size"
      ],
      "metadata": {
        "id": "cKMeKEozMmPn"
      }
    },
    {
      "cell_type": "code",
      "source": [
        "# Create a bar plot using 'base_frequency' dictionary\n",
        "plt.bar(x=base_frequency.keys(), height=base_frequency.values())\n",
        "\n",
        "# Add labels and title to the plot\n",
        "plt.xlabel('Highest Base')\n",
        "plt.ylabel('Frequency')\n",
        "plt.title('Frequency of Highest Base in Random Strings')\n",
        "\n",
        "# Show the plot\n",
        "plt.show()\n"
      ],
      "metadata": {
        "id": "1Tofc60-WSDf",
        "colab": {
          "base_uri": "https://localhost:8080/",
          "height": 447
        },
        "outputId": "079cb430-2555-4124-85be-d5e1c780dcc8"
      },
      "execution_count": null,
      "outputs": [
        {
          "output_type": "execute_result",
          "data": {
            "text/plain": [
              "<BarContainer object of 36 artists>"
            ]
          },
          "metadata": {},
          "execution_count": 22
        },
        {
          "output_type": "display_data",
          "data": {
            "text/plain": [
              "<Figure size 640x480 with 1 Axes>"
            ],
            "image/png": "[encoded data removed]"
          },
          "metadata": {}
        }
      ]
    },
    {
      "cell_type": "markdown",
      "source": [
        "explaination - A graph plotted with relative frequency at y axis and random numbers at x axis is created\n"
      ],
      "metadata": {
        "id": "5fCxQv-EM3EX"
      }
    },
    {
      "cell_type": "code",
      "source": [],
      "metadata": {
        "id": "oBwAEakMytY3"
      },
      "execution_count": null,
      "outputs": []
    }
  ],
  "metadata": {
    "colab": {
      "provenance": [],
      "include_colab_link": true
    },
    "kernelspec": {
      "display_name": "Python 3",
      "name": "python3"
    },
    "language_info": {
      "name": "python"
    }
  },
  "nbformat": 4,
  "nbformat_minor": 0
}